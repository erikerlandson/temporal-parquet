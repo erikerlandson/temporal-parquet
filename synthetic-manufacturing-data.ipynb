{
 "cells": [
  {
   "cell_type": "code",
   "execution_count": 1,
   "metadata": {},
   "outputs": [
    {
     "name": "stdout",
     "output_type": "stream",
     "text": [
      "\u001b[33mWARNING: Skipping mlflow as it is not installed.\u001b[0m\n",
      "Note: you may need to restart the kernel to use updated packages.\n"
     ]
    }
   ],
   "source": [
    "# this gets rid of uuid problem\n",
    "%pip uninstall -y mlflow"
   ]
  },
  {
   "cell_type": "code",
   "execution_count": 2,
   "metadata": {},
   "outputs": [
    {
     "name": "stdout",
     "output_type": "stream",
     "text": [
      "\u001b[33mWARNING: You are using pip version 19.2.1, however version 20.2 is available.\n",
      "You should consider upgrading via the 'pip install --upgrade pip' command.\u001b[0m\n",
      "Note: you may need to restart the kernel to use updated packages.\n"
     ]
    }
   ],
   "source": [
    "%pip install altair pyarrow pandas==1.0.3 matplotlib>=2.2.3 numba>=0.38.1 scipy>=1.1.0"
   ]
  },
  {
   "cell_type": "code",
   "execution_count": 3,
   "metadata": {},
   "outputs": [],
   "source": [
    "from scipy import stats\n",
    "import numpy as np\n",
    "import pandas as pd\n",
    "import altair as alt\n",
    "import heapq\n",
    "import time"
   ]
  },
  {
   "cell_type": "code",
   "execution_count": 4,
   "metadata": {},
   "outputs": [],
   "source": [
    "def simulate(event_generators, initial_time=0):    \n",
    "    def setup_e(e, i):\n",
    "        offset, result = next(e)\n",
    "        return ((offset + i), result, e)\n",
    "    \n",
    "    pq = [setup_e(event, initial_time)\n",
    "          for event in event_generators]\n",
    "    heapq.heapify(pq)\n",
    "    \n",
    "    while True:\n",
    "        timestamp, result, event = pq[0]\n",
    "        offset, next_result = event.send(timestamp)\n",
    "        heapq.heappushpop(pq, (timestamp + offset, next_result, event))\n",
    "        yield (timestamp, result)"
   ]
  },
  {
   "cell_type": "code",
   "execution_count": 5,
   "metadata": {},
   "outputs": [],
   "source": [
    "def makeprng(func):\n",
    "    import time\n",
    "    def call_with_prng(*args, prng=None, seed=None, **kwargs):\n",
    "        if prng is None:\n",
    "            if seed is None:\n",
    "                seed = int(1000*time.time()) & ((1 << 32) - 1)\n",
    "            prng = np.random.default_rng(seed=seed)\n",
    "        return func(*args, prng=prng, seed=seed, **kwargs)\n",
    "    return call_with_prng"
   ]
  },
  {
   "cell_type": "code",
   "execution_count": 6,
   "metadata": {},
   "outputs": [],
   "source": [
    "def makedist(dist_cls, seed=None, prng=None, **kwargs):\n",
    "    d = dist_cls(**kwargs)\n",
    "    d.random_state = (seed and seed) or prng.integers((1 << 32) - 1)\n",
    "    return d"
   ]
  },
  {
   "cell_type": "markdown",
   "metadata": {},
   "source": [
    "### A stream of events of some particular kind coming from a piece of factory equipment"
   ]
  },
  {
   "cell_type": "code",
   "execution_count": 7,
   "metadata": {},
   "outputs": [],
   "source": [
    "@makeprng\n",
    "def equipment_event_stream(eqid, event, rate, prng=None, seed=None):\n",
    "    # exponential inter-arrival distribution yields poisson event distribution\n",
    "    iadist = makedist(stats.expon, prng=prng, scale=(1.0 / float(rate)))\n",
    "    while True:\n",
    "        yield (int(iadist.rvs()), (eqid, event))"
   ]
  },
  {
   "cell_type": "code",
   "execution_count": 8,
   "metadata": {},
   "outputs": [
    {
     "data": {
      "text/plain": [
       "[(4, ('donut-stamper', 'force')),\n",
       " (28, ('donut-stamper', 'force')),\n",
       " (13, ('donut-stamper', 'force')),\n",
       " (14, ('donut-stamper', 'force')),\n",
       " (14, ('donut-stamper', 'force'))]"
      ]
     },
     "execution_count": 8,
     "metadata": {},
     "output_type": "execute_result"
    }
   ],
   "source": [
    "demo = equipment_event_stream(\"donut-stamper\", \"force\", 1.0 / 10.0)\n",
    "[next(demo) for x in range(5)]"
   ]
  },
  {
   "cell_type": "markdown",
   "metadata": {},
   "source": [
    "### generate all events from a piece of equipment"
   ]
  },
  {
   "cell_type": "code",
   "execution_count": 9,
   "metadata": {},
   "outputs": [],
   "source": [
    "@makeprng\n",
    "def equipment_stream(eqid, events, rates=None, functions=None, prng=None, seed=None):\n",
    "    n = len(events)\n",
    "    # default once / minute\n",
    "    rates = rates or [1.0 / 60.0 for x in range(n)]\n",
    "    assert len(rates) == n\n",
    "    # default is id(event-time)\n",
    "    functions = functions or [lambda t: None for x in range(n)]\n",
    "    assert len(functions) == n\n",
    "    fmap = {e:f for e,f in zip(events,functions)}\n",
    "    estreams = [equipment_event_stream(eqid, e, r, prng=prng, seed=seed) for e,r in zip(events, rates)]\n",
    "    esim = simulate(estreams, initial_time=0)\n",
    "    while True:\n",
    "        (t, (eqi, e)) = next(esim)\n",
    "        sv = fmap[e](t)\n",
    "        yt = (eqi, e, sv) if sv else (eqi, e)\n",
    "        yield (t, yt)"
   ]
  },
  {
   "cell_type": "code",
   "execution_count": 10,
   "metadata": {},
   "outputs": [
    {
     "data": {
      "text/plain": [
       "[(153, ('donut-stamper', 'enthusiasm')),\n",
       " (176, ('donut-stamper', 'enthusiasm')),\n",
       " (224, ('donut-stamper', 'force', 5)),\n",
       " (253, ('donut-stamper', 'force', 5)),\n",
       " (287, ('donut-stamper', 'force', 5))]"
      ]
     },
     "execution_count": 10,
     "metadata": {},
     "output_type": "execute_result"
    }
   ],
   "source": [
    "demo = equipment_stream('donut-stamper', ['force', 'enthusiasm'], functions=[lambda t: 5, lambda t: None])\n",
    "[next(demo) for x in range(5)]"
   ]
  },
  {
   "cell_type": "markdown",
   "metadata": {},
   "source": [
    "### some event state output functions for temperature and pressure"
   ]
  },
  {
   "cell_type": "code",
   "execution_count": 11,
   "metadata": {},
   "outputs": [],
   "source": [
    "# Frobulators operate at just over the boiling point of water (centigrade)\n",
    "gdt = stats.norm(loc=105, scale=1)\n",
    "def tempfunc(t):\n",
    "    return gdt.rvs(random_state = t)\n",
    "\n",
    "# Also they operate at 5 atmospheres (kilopascals)\n",
    "gdp = stats.norm(loc=550, scale=10)\n",
    "def presfunc(t):\n",
    "    return gdp.rvs(random_state = t)"
   ]
  },
  {
   "cell_type": "markdown",
   "metadata": {},
   "source": [
    "### simulate some frobulators on the factory floor"
   ]
  },
  {
   "cell_type": "code",
   "execution_count": 12,
   "metadata": {},
   "outputs": [
    {
     "data": {
      "text/plain": [
       "[(0, ('frob2', 'pressure', 567.6405234596766)),\n",
       " (2, ('frob1', 'pressure', 545.8324215259453)),\n",
       " (9, ('frob3', 'temperature', 105.00110855471222)),\n",
       " (19, ('frob1', 'pressure', 552.7626589002132)),\n",
       " (23, ('frob2', 'temperature', 105.66698805635347)),\n",
       " (24, ('frob3', 'pressure', 546.8767151845645)),\n",
       " (44, ('frob1', 'temperature', 105.22827308966609)),\n",
       " (57, ('frob3', 'pressure', 546.8114649489187)),\n",
       " (68, ('frob2', 'pressure', 550.2637477284957)),\n",
       " (72, ('frob1', 'temperature', 105.44633237787005)),\n",
       " (92, ('frob3', 'pressure', 531.1026328991214)),\n",
       " (118, ('frob2', 'pressure', 534.3964789131635)),\n",
       " (131, ('frob1', 'temperature', 103.33071647860528)),\n",
       " (142, ('frob3', 'temperature', 103.43964789131634)),\n",
       " (170, ('frob2', 'temperature', 105.51947584061416)),\n",
       " (196, ('frob1', 'pressure', 541.6633517686731)),\n",
       " (206, ('frob3', 'temperature', 106.10032293923169)),\n",
       " (226, ('frob2', 'temperature', 103.96235682449742)),\n",
       " (261, ('frob1', 'temperature', 104.16633517686732)),\n",
       " (291, ('frob2', 'pressure', 541.6633517686731)),\n",
       " (293, ('frob3', 'pressure', 553.7237552085314)),\n",
       " (326, ('frob1', 'temperature', 104.16633517686732)),\n",
       " (361, ('frob2', 'temperature', 105.85099740830191)),\n",
       " (384, ('frob3', 'temperature', 104.39387898226524)),\n",
       " (394, ('frob1', 'temperature', 104.05552363562835))]"
      ]
     },
     "execution_count": 12,
     "metadata": {},
     "output_type": "execute_result"
    }
   ],
   "source": [
    "frob1stream = equipment_stream(\"frob1\", ['temperature', 'pressure'],[0.1,0.05],[tempfunc,presfunc], seed=77)\n",
    "frob2stream = equipment_stream(\"frob2\", ['temperature', 'pressure'],[0.1,0.05],[tempfunc,presfunc], seed=88)\n",
    "frob3stream = equipment_stream(\"frob3\", ['temperature', 'pressure'],[0.1,0.05],[tempfunc,presfunc], seed=99)\n",
    "\n",
    "frobsim = simulate([frob1stream, frob2stream, frob3stream], initial_time=0)\n",
    "\n",
    "simdata = [next(frobsim) for xx in range(25)]\n",
    "simdata"
   ]
  },
  {
   "cell_type": "code",
   "execution_count": 13,
   "metadata": {},
   "outputs": [],
   "source": [
    "import pyarrow as pa\n",
    "import pyarrow.parquet as pq"
   ]
  },
  {
   "cell_type": "code",
   "execution_count": 14,
   "metadata": {},
   "outputs": [
    {
     "data": {
      "text/plain": [
       "<pyarrow.lib.TimestampArray object at 0x7f2a73557ee8>\n",
       "[\n",
       "  1970-01-01 00:00:01,\n",
       "  1970-01-01 00:00:02,\n",
       "  1970-01-01 00:00:03\n",
       "]"
      ]
     },
     "execution_count": 14,
     "metadata": {},
     "output_type": "execute_result"
    }
   ],
   "source": [
    "pa.array([1,2,3],type=pa.timestamp('s', tz='+00:00'))"
   ]
  },
  {
   "cell_type": "code",
   "execution_count": 15,
   "metadata": {},
   "outputs": [],
   "source": [
    "# get a 'raw' parquet table, that is one with a default schema,\n",
    "# from some common data formats\n",
    "def data_to_rawtab(data):\n",
    "    if isinstance(data, pa.Table):\n",
    "        return data\n",
    "    if isinstance(data, pd.DataFrame):\n",
    "        return pa.Table.from_pandas(data)\n",
    "    if isinstance(data, np.ndarray):\n",
    "        return pa.Table.from_pandas(pd.DataFrame(data))\n",
    "    return pa.Table.from_pandas(pd.DataFrame(data))\n",
    "\n",
    "# get a parquet table from some tabular data object (list-of-lists, pandas, etc)\n",
    "# optionally, impose a specific schema on it, otherwise it will be inferred\n",
    "def data_to_tab(data, schema=None):\n",
    "    # getting a table with default schema and then reassembling its columns with a new schema\n",
    "    # is the only way I found to impose a schema cleanly\n",
    "    tab = data_to_rawtab(data)\n",
    "    schema = schema or tab.schema\n",
    "    return pa.Table.from_arrays(tab.columns, schema=schema)\n",
    "\n",
    "def append_to_parquet(data, filepath=None, writer=None, schema=None):\n",
    "    table = data_to_tab(data, schema=schema)\n",
    "    schema = table.schema\n",
    "    close = False\n",
    "    if writer is None:\n",
    "        writer = pq.ParquetWriter(filepath, schema, flavor='spark')\n",
    "        close = True\n",
    "    writer.write_table(table=table)\n",
    "    if close:\n",
    "        writer.close()"
   ]
  },
  {
   "cell_type": "code",
   "execution_count": 16,
   "metadata": {},
   "outputs": [
    {
     "data": {
      "text/plain": [
       "ts: timestamp[s, tz=+00:00]\n",
       "equip: string\n",
       "event: string\n",
       "data: double"
      ]
     },
     "execution_count": 16,
     "metadata": {},
     "output_type": "execute_result"
    }
   ],
   "source": [
    "frobschema = pa.schema([\n",
    "    ('ts',pa.timestamp('s', tz='+00:00')),\n",
    "    ('equip', pa.string()),\n",
    "    ('event', pa.string()),\n",
    "    ('data', pa.float64())\n",
    "])\n",
    "frobschema"
   ]
  },
  {
   "cell_type": "code",
   "execution_count": 17,
   "metadata": {},
   "outputs": [],
   "source": [
    "@makeprng\n",
    "def generate_data(nrecs = 10, t0=None, seed=None, prng=None):\n",
    "    frob1stream = equipment_stream(\"frob1\", ['temperature', 'pressure'],[0.1,0.05],[tempfunc,presfunc], seed=prng.integers(100))\n",
    "    frob2stream = equipment_stream(\"frob2\", ['temperature', 'pressure'],[0.1,0.05],[tempfunc,presfunc], seed=prng.integers(100))\n",
    "    frob3stream = equipment_stream(\"frob3\", ['temperature', 'pressure'],[0.1,0.05],[tempfunc,presfunc], seed=prng.integers(100))\n",
    "\n",
    "    t0 = t0 or int(time.time())\n",
    "    frobsim = simulate([frob1stream, frob2stream, frob3stream], initial_time=int(t0))\n",
    "    simdata = [next(frobsim) for xx in range(nrecs)]\n",
    "    return [[ts] + list(r) for ts, r in simdata]"
   ]
  },
  {
   "cell_type": "code",
   "execution_count": 18,
   "metadata": {},
   "outputs": [],
   "source": [
    "raw = generate_data(nrecs = 100)\n",
    "append_to_parquet(raw, filepath=\"frob\", schema=frobschema)"
   ]
  },
  {
   "cell_type": "code",
   "execution_count": 19,
   "metadata": {},
   "outputs": [
    {
     "data": {
      "text/html": [
       "<div>\n",
       "<style scoped>\n",
       "    .dataframe tbody tr th:only-of-type {\n",
       "        vertical-align: middle;\n",
       "    }\n",
       "\n",
       "    .dataframe tbody tr th {\n",
       "        vertical-align: top;\n",
       "    }\n",
       "\n",
       "    .dataframe thead th {\n",
       "        text-align: right;\n",
       "    }\n",
       "</style>\n",
       "<table border=\"1\" class=\"dataframe\">\n",
       "  <thead>\n",
       "    <tr style=\"text-align: right;\">\n",
       "      <th></th>\n",
       "      <th>ts</th>\n",
       "      <th>equip</th>\n",
       "      <th>event</th>\n",
       "      <th>data</th>\n",
       "    </tr>\n",
       "  </thead>\n",
       "  <tbody>\n",
       "    <tr>\n",
       "      <th>0</th>\n",
       "      <td>2020-07-31 23:53:24</td>\n",
       "      <td>frob1</td>\n",
       "      <td>temperature</td>\n",
       "      <td>106.764052</td>\n",
       "    </tr>\n",
       "    <tr>\n",
       "      <th>1</th>\n",
       "      <td>2020-07-31 23:53:24</td>\n",
       "      <td>frob1</td>\n",
       "      <td>temperature</td>\n",
       "      <td>106.764052</td>\n",
       "    </tr>\n",
       "    <tr>\n",
       "      <th>2</th>\n",
       "      <td>2020-07-31 23:53:29</td>\n",
       "      <td>frob3</td>\n",
       "      <td>pressure</td>\n",
       "      <td>554.412275</td>\n",
       "    </tr>\n",
       "    <tr>\n",
       "      <th>3</th>\n",
       "      <td>2020-07-31 23:53:31</td>\n",
       "      <td>frob1</td>\n",
       "      <td>temperature</td>\n",
       "      <td>106.690526</td>\n",
       "    </tr>\n",
       "    <tr>\n",
       "      <th>4</th>\n",
       "      <td>2020-07-31 23:53:35</td>\n",
       "      <td>frob2</td>\n",
       "      <td>pressure</td>\n",
       "      <td>567.494547</td>\n",
       "    </tr>\n",
       "    <tr>\n",
       "      <th>...</th>\n",
       "      <td>...</td>\n",
       "      <td>...</td>\n",
       "      <td>...</td>\n",
       "      <td>...</td>\n",
       "    </tr>\n",
       "    <tr>\n",
       "      <th>95</th>\n",
       "      <td>2020-08-01 00:41:35</td>\n",
       "      <td>frob1</td>\n",
       "      <td>temperature</td>\n",
       "      <td>106.367858</td>\n",
       "    </tr>\n",
       "    <tr>\n",
       "      <th>96</th>\n",
       "      <td>2020-08-01 00:42:42</td>\n",
       "      <td>frob2</td>\n",
       "      <td>temperature</td>\n",
       "      <td>105.405948</td>\n",
       "    </tr>\n",
       "    <tr>\n",
       "      <th>97</th>\n",
       "      <td>2020-08-01 00:44:11</td>\n",
       "      <td>frob3</td>\n",
       "      <td>temperature</td>\n",
       "      <td>104.703773</td>\n",
       "    </tr>\n",
       "    <tr>\n",
       "      <th>98</th>\n",
       "      <td>2020-08-01 00:44:45</td>\n",
       "      <td>frob1</td>\n",
       "      <td>temperature</td>\n",
       "      <td>105.709691</td>\n",
       "    </tr>\n",
       "    <tr>\n",
       "      <th>99</th>\n",
       "      <td>2020-08-01 00:45:37</td>\n",
       "      <td>frob2</td>\n",
       "      <td>temperature</td>\n",
       "      <td>104.364913</td>\n",
       "    </tr>\n",
       "  </tbody>\n",
       "</table>\n",
       "<p>100 rows × 4 columns</p>\n",
       "</div>"
      ],
      "text/plain": [
       "                    ts  equip        event        data\n",
       "0  2020-07-31 23:53:24  frob1  temperature  106.764052\n",
       "1  2020-07-31 23:53:24  frob1  temperature  106.764052\n",
       "2  2020-07-31 23:53:29  frob3     pressure  554.412275\n",
       "3  2020-07-31 23:53:31  frob1  temperature  106.690526\n",
       "4  2020-07-31 23:53:35  frob2     pressure  567.494547\n",
       "..                 ...    ...          ...         ...\n",
       "95 2020-08-01 00:41:35  frob1  temperature  106.367858\n",
       "96 2020-08-01 00:42:42  frob2  temperature  105.405948\n",
       "97 2020-08-01 00:44:11  frob3  temperature  104.703773\n",
       "98 2020-08-01 00:44:45  frob1  temperature  105.709691\n",
       "99 2020-08-01 00:45:37  frob2  temperature  104.364913\n",
       "\n",
       "[100 rows x 4 columns]"
      ]
     },
     "execution_count": 19,
     "metadata": {},
     "output_type": "execute_result"
    }
   ],
   "source": [
    "df = pd.read_parquet(\"frob\")\n",
    "df"
   ]
  },
  {
   "cell_type": "code",
   "execution_count": 20,
   "metadata": {},
   "outputs": [],
   "source": [
    "writer = pq.ParquetWriter(\"frob2\", frobschema, flavor='spark')\n",
    "raw = generate_data(nrecs = 100)\n",
    "append_to_parquet(raw, writer=writer, schema=frobschema)\n",
    "raw = generate_data(nrecs = 100)\n",
    "append_to_parquet(raw, writer=writer, schema=frobschema)\n",
    "writer.close()"
   ]
  },
  {
   "cell_type": "code",
   "execution_count": 21,
   "metadata": {},
   "outputs": [
    {
     "data": {
      "text/html": [
       "<div>\n",
       "<style scoped>\n",
       "    .dataframe tbody tr th:only-of-type {\n",
       "        vertical-align: middle;\n",
       "    }\n",
       "\n",
       "    .dataframe tbody tr th {\n",
       "        vertical-align: top;\n",
       "    }\n",
       "\n",
       "    .dataframe thead th {\n",
       "        text-align: right;\n",
       "    }\n",
       "</style>\n",
       "<table border=\"1\" class=\"dataframe\">\n",
       "  <thead>\n",
       "    <tr style=\"text-align: right;\">\n",
       "      <th></th>\n",
       "      <th>ts</th>\n",
       "      <th>equip</th>\n",
       "      <th>event</th>\n",
       "      <th>data</th>\n",
       "    </tr>\n",
       "  </thead>\n",
       "  <tbody>\n",
       "    <tr>\n",
       "      <th>0</th>\n",
       "      <td>2020-07-31 23:53:26</td>\n",
       "      <td>frob2</td>\n",
       "      <td>temperature</td>\n",
       "      <td>104.583242</td>\n",
       "    </tr>\n",
       "    <tr>\n",
       "      <th>1</th>\n",
       "      <td>2020-07-31 23:53:27</td>\n",
       "      <td>frob1</td>\n",
       "      <td>temperature</td>\n",
       "      <td>106.788628</td>\n",
       "    </tr>\n",
       "    <tr>\n",
       "      <th>2</th>\n",
       "      <td>2020-07-31 23:53:30</td>\n",
       "      <td>frob2</td>\n",
       "      <td>temperature</td>\n",
       "      <td>105.050562</td>\n",
       "    </tr>\n",
       "    <tr>\n",
       "      <th>3</th>\n",
       "      <td>2020-07-31 23:53:33</td>\n",
       "      <td>frob1</td>\n",
       "      <td>temperature</td>\n",
       "      <td>104.688216</td>\n",
       "    </tr>\n",
       "    <tr>\n",
       "      <th>4</th>\n",
       "      <td>2020-07-31 23:53:34</td>\n",
       "      <td>frob3</td>\n",
       "      <td>pressure</td>\n",
       "      <td>563.315865</td>\n",
       "    </tr>\n",
       "    <tr>\n",
       "      <th>...</th>\n",
       "      <td>...</td>\n",
       "      <td>...</td>\n",
       "      <td>...</td>\n",
       "      <td>...</td>\n",
       "    </tr>\n",
       "    <tr>\n",
       "      <th>195</th>\n",
       "      <td>2020-08-01 00:31:45</td>\n",
       "      <td>frob3</td>\n",
       "      <td>temperature</td>\n",
       "      <td>106.090775</td>\n",
       "    </tr>\n",
       "    <tr>\n",
       "      <th>196</th>\n",
       "      <td>2020-08-01 00:32:47</td>\n",
       "      <td>frob2</td>\n",
       "      <td>pressure</td>\n",
       "      <td>554.502232</td>\n",
       "    </tr>\n",
       "    <tr>\n",
       "      <th>197</th>\n",
       "      <td>2020-08-01 00:34:27</td>\n",
       "      <td>frob3</td>\n",
       "      <td>temperature</td>\n",
       "      <td>106.124590</td>\n",
       "    </tr>\n",
       "    <tr>\n",
       "      <th>198</th>\n",
       "      <td>2020-08-01 00:34:28</td>\n",
       "      <td>frob1</td>\n",
       "      <td>temperature</td>\n",
       "      <td>105.528954</td>\n",
       "    </tr>\n",
       "    <tr>\n",
       "      <th>199</th>\n",
       "      <td>2020-08-01 00:35:02</td>\n",
       "      <td>frob2</td>\n",
       "      <td>temperature</td>\n",
       "      <td>103.735144</td>\n",
       "    </tr>\n",
       "  </tbody>\n",
       "</table>\n",
       "<p>200 rows × 4 columns</p>\n",
       "</div>"
      ],
      "text/plain": [
       "                     ts  equip        event        data\n",
       "0   2020-07-31 23:53:26  frob2  temperature  104.583242\n",
       "1   2020-07-31 23:53:27  frob1  temperature  106.788628\n",
       "2   2020-07-31 23:53:30  frob2  temperature  105.050562\n",
       "3   2020-07-31 23:53:33  frob1  temperature  104.688216\n",
       "4   2020-07-31 23:53:34  frob3     pressure  563.315865\n",
       "..                  ...    ...          ...         ...\n",
       "195 2020-08-01 00:31:45  frob3  temperature  106.090775\n",
       "196 2020-08-01 00:32:47  frob2     pressure  554.502232\n",
       "197 2020-08-01 00:34:27  frob3  temperature  106.124590\n",
       "198 2020-08-01 00:34:28  frob1  temperature  105.528954\n",
       "199 2020-08-01 00:35:02  frob2  temperature  103.735144\n",
       "\n",
       "[200 rows x 4 columns]"
      ]
     },
     "execution_count": 21,
     "metadata": {},
     "output_type": "execute_result"
    }
   ],
   "source": [
    "df = pd.read_parquet(\"frob2\")\n",
    "df"
   ]
  },
  {
   "cell_type": "code",
   "execution_count": 23,
   "metadata": {},
   "outputs": [],
   "source": [
    "tab = data_to_tab(generate_data(nrecs = 100), schema=frobschema)\n",
    "pq.write_to_dataset(tab, \"frob3\", partition_cols=['event'], flavor='spark')\n",
    "tab = data_to_tab(generate_data(nrecs = 100), schema=frobschema)\n",
    "pq.write_to_dataset(tab, \"frob3\", partition_cols=['event'], flavor='spark')"
   ]
  },
  {
   "cell_type": "code",
   "execution_count": null,
   "metadata": {},
   "outputs": [],
   "source": []
  }
 ],
 "metadata": {
  "kernelspec": {
   "display_name": "Python 3",
   "language": "python",
   "name": "python3"
  },
  "language_info": {
   "codemirror_mode": {
    "name": "ipython",
    "version": 3
   },
   "file_extension": ".py",
   "mimetype": "text/x-python",
   "name": "python",
   "nbconvert_exporter": "python",
   "pygments_lexer": "ipython3",
   "version": "3.6.3"
  }
 },
 "nbformat": 4,
 "nbformat_minor": 2
}
