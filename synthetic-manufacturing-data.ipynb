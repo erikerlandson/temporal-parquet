{
 "cells": [
  {
   "cell_type": "code",
   "execution_count": 1,
   "metadata": {},
   "outputs": [
    {
     "name": "stdout",
     "output_type": "stream",
     "text": [
      "\u001b[33mWARNING: Skipping mlflow as it is not installed.\u001b[0m\n",
      "Note: you may need to restart the kernel to use updated packages.\n"
     ]
    }
   ],
   "source": [
    "# this gets rid of uuid problem\n",
    "%pip uninstall -y mlflow"
   ]
  },
  {
   "cell_type": "code",
   "execution_count": 2,
   "metadata": {},
   "outputs": [
    {
     "name": "stdout",
     "output_type": "stream",
     "text": [
      "\u001b[33mWARNING: You are using pip version 19.2.1, however version 20.2 is available.\n",
      "You should consider upgrading via the 'pip install --upgrade pip' command.\u001b[0m\n",
      "Note: you may need to restart the kernel to use updated packages.\n"
     ]
    }
   ],
   "source": [
    "%pip install altair pyarrow pandas==1.0.3 matplotlib>=2.2.3 numba>=0.38.1 scipy>=1.1.0"
   ]
  },
  {
   "cell_type": "code",
   "execution_count": 3,
   "metadata": {},
   "outputs": [],
   "source": [
    "from scipy import stats\n",
    "import numpy as np\n",
    "import pandas as pd\n",
    "import altair as alt\n",
    "import heapq"
   ]
  },
  {
   "cell_type": "code",
   "execution_count": 4,
   "metadata": {},
   "outputs": [],
   "source": [
    "def simulate(event_generators, initial_time=0):    \n",
    "    def setup_e(e, i):\n",
    "        offset, result = next(e)\n",
    "        return ((offset + i), result, e)\n",
    "    \n",
    "    pq = [setup_e(event, initial_time)\n",
    "          for event in event_generators]\n",
    "    heapq.heapify(pq)\n",
    "    \n",
    "    while True:\n",
    "        timestamp, result, event = pq[0]\n",
    "        offset, next_result = event.send(timestamp)\n",
    "        heapq.heappushpop(pq, (timestamp + offset, next_result, event))\n",
    "        yield (timestamp, result)"
   ]
  },
  {
   "cell_type": "code",
   "execution_count": 5,
   "metadata": {},
   "outputs": [],
   "source": [
    "def makeprng(func):\n",
    "    import time\n",
    "    def call_with_prng(*args, prng=None, seed=None, **kwargs):\n",
    "        if prng is None:\n",
    "            if seed is None:\n",
    "                seed = int(time.time()) & ((1 << 32) - 1)\n",
    "            prng = np.random.default_rng(seed=seed)\n",
    "        return func(*args, prng=prng, seed=seed, **kwargs)\n",
    "    return call_with_prng"
   ]
  },
  {
   "cell_type": "code",
   "execution_count": 6,
   "metadata": {},
   "outputs": [],
   "source": [
    "def makedist(dist_cls, seed=None, prng=None, **kwargs):\n",
    "    d = dist_cls(**kwargs)\n",
    "    d.random_state = (seed and seed) or prng.integers((1 << 32) - 1)\n",
    "    return d"
   ]
  },
  {
   "cell_type": "markdown",
   "metadata": {},
   "source": [
    "### A stream of events of some particular kind coming from a piece of factory equipment"
   ]
  },
  {
   "cell_type": "code",
   "execution_count": 7,
   "metadata": {},
   "outputs": [],
   "source": [
    "@makeprng\n",
    "def equipment_event_stream(eqid, event, rate, prng=None, seed=None):\n",
    "    # exponential inter-arrival distribution yields poisson event distribution\n",
    "    iadist = makedist(stats.expon, prng=prng, scale=(1.0 / float(rate)))\n",
    "    while True:\n",
    "        yield (int(iadist.rvs()), (eqid, event))"
   ]
  },
  {
   "cell_type": "code",
   "execution_count": 8,
   "metadata": {},
   "outputs": [
    {
     "data": {
      "text/plain": [
       "[(28, ('donut-stamper', 'force')),\n",
       " (4, ('donut-stamper', 'force')),\n",
       " (26, ('donut-stamper', 'force')),\n",
       " (2, ('donut-stamper', 'force')),\n",
       " (1, ('donut-stamper', 'force'))]"
      ]
     },
     "execution_count": 8,
     "metadata": {},
     "output_type": "execute_result"
    }
   ],
   "source": [
    "demo = equipment_event_stream(\"donut-stamper\", \"force\", 1.0 / 10.0)\n",
    "[next(demo) for x in range(5)]"
   ]
  },
  {
   "cell_type": "markdown",
   "metadata": {},
   "source": [
    "### generate all events from a piece of equipment"
   ]
  },
  {
   "cell_type": "code",
   "execution_count": 9,
   "metadata": {},
   "outputs": [],
   "source": [
    "@makeprng\n",
    "def equipment_stream(eqid, events, rates=None, functions=None, prng=None, seed=None):\n",
    "    n = len(events)\n",
    "    # default once / minute\n",
    "    rates = rates or [1.0 / 60.0 for x in range(n)]\n",
    "    assert len(rates) == n\n",
    "    # default is id(event-time)\n",
    "    functions = functions or [lambda t: None for x in range(n)]\n",
    "    assert len(functions) == n\n",
    "    fmap = {e:f for e,f in zip(events,functions)}\n",
    "    estreams = [equipment_event_stream(eqid, e, r, prng=prng, seed=seed) for e,r in zip(events, rates)]\n",
    "    esim = simulate(estreams, initial_time=0)\n",
    "    while True:\n",
    "        (t, (eqi, e)) = next(esim)\n",
    "        sv = fmap[e](t)\n",
    "        yt = (eqi, e, sv) if sv else (eqi, e)\n",
    "        yield (t, yt)"
   ]
  },
  {
   "cell_type": "code",
   "execution_count": 10,
   "metadata": {},
   "outputs": [
    {
     "data": {
      "text/plain": [
       "[(35, ('donut-stamper', 'enthusiasm')),\n",
       " (102, ('donut-stamper', 'enthusiasm')),\n",
       " (159, ('donut-stamper', 'enthusiasm')),\n",
       " (169, ('donut-stamper', 'force', 5)),\n",
       " (194, ('donut-stamper', 'force', 5))]"
      ]
     },
     "execution_count": 10,
     "metadata": {},
     "output_type": "execute_result"
    }
   ],
   "source": [
    "demo = equipment_stream('donut-stamper', ['force', 'enthusiasm'], functions=[lambda t: 5, lambda t: None])\n",
    "[next(demo) for x in range(5)]"
   ]
  },
  {
   "cell_type": "markdown",
   "metadata": {},
   "source": [
    "### some event state output functions for temperature and pressure"
   ]
  },
  {
   "cell_type": "code",
   "execution_count": 11,
   "metadata": {},
   "outputs": [],
   "source": [
    "# Frobulators operate at just over the boiling point of water (centigrade)\n",
    "gdt = stats.norm(loc=105, scale=1)\n",
    "def tempfunc(t):\n",
    "    return gdt.rvs(random_state = t)\n",
    "\n",
    "# Also they operate at 5 atmospheres (kilopascals)\n",
    "gdp = stats.norm(loc=550, scale=10)\n",
    "def presfunc(t):\n",
    "    return gdp.rvs(random_state = t)"
   ]
  },
  {
   "cell_type": "markdown",
   "metadata": {},
   "source": [
    "### simulate some frobulators on the factory floor"
   ]
  },
  {
   "cell_type": "code",
   "execution_count": 12,
   "metadata": {},
   "outputs": [
    {
     "data": {
      "text/plain": [
       "[(0, ('frob2', 'pressure', 567.6405234596766)),\n",
       " (2, ('frob1', 'pressure', 545.8324215259453)),\n",
       " (9, ('frob3', 'temperature', 105.00110855471222)),\n",
       " (19, ('frob1', 'pressure', 552.7626589002132)),\n",
       " (23, ('frob2', 'temperature', 105.66698805635347)),\n",
       " (24, ('frob3', 'pressure', 546.8767151845645)),\n",
       " (44, ('frob1', 'temperature', 105.22827308966609)),\n",
       " (57, ('frob3', 'pressure', 546.8114649489187)),\n",
       " (68, ('frob2', 'pressure', 550.2637477284957)),\n",
       " (72, ('frob1', 'temperature', 105.44633237787005)),\n",
       " (92, ('frob3', 'pressure', 531.1026328991214)),\n",
       " (118, ('frob2', 'pressure', 534.3964789131635)),\n",
       " (131, ('frob1', 'temperature', 103.33071647860528)),\n",
       " (142, ('frob3', 'temperature', 103.43964789131634)),\n",
       " (170, ('frob2', 'temperature', 105.51947584061416)),\n",
       " (196, ('frob1', 'pressure', 541.6633517686731)),\n",
       " (206, ('frob3', 'temperature', 106.10032293923169)),\n",
       " (226, ('frob2', 'temperature', 103.96235682449742)),\n",
       " (261, ('frob1', 'temperature', 104.16633517686732)),\n",
       " (291, ('frob2', 'pressure', 541.6633517686731)),\n",
       " (293, ('frob3', 'pressure', 553.7237552085314)),\n",
       " (326, ('frob1', 'temperature', 104.16633517686732)),\n",
       " (361, ('frob2', 'temperature', 105.85099740830191)),\n",
       " (384, ('frob3', 'temperature', 104.39387898226524)),\n",
       " (394, ('frob1', 'temperature', 104.05552363562835))]"
      ]
     },
     "execution_count": 12,
     "metadata": {},
     "output_type": "execute_result"
    }
   ],
   "source": [
    "frob1stream = equipment_stream(\"frob1\", ['temperature', 'pressure'],[0.1,0.05],[tempfunc,presfunc], seed=77)\n",
    "frob2stream = equipment_stream(\"frob2\", ['temperature', 'pressure'],[0.1,0.05],[tempfunc,presfunc], seed=88)\n",
    "frob3stream = equipment_stream(\"frob3\", ['temperature', 'pressure'],[0.1,0.05],[tempfunc,presfunc], seed=99)\n",
    "\n",
    "frobsim = simulate([frob1stream, frob2stream, frob3stream], initial_time=0)\n",
    "\n",
    "[next(frobsim) for xx in range(25)]"
   ]
  },
  {
   "cell_type": "code",
   "execution_count": null,
   "metadata": {},
   "outputs": [],
   "source": []
  }
 ],
 "metadata": {
  "kernelspec": {
   "display_name": "Python 3",
   "language": "python",
   "name": "python3"
  },
  "language_info": {
   "codemirror_mode": {
    "name": "ipython",
    "version": 3
   },
   "file_extension": ".py",
   "mimetype": "text/x-python",
   "name": "python",
   "nbconvert_exporter": "python",
   "pygments_lexer": "ipython3",
   "version": "3.6.3"
  }
 },
 "nbformat": 4,
 "nbformat_minor": 2
}
